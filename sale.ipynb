{
 "cells": [
  {
   "cell_type": "code",
   "execution_count": 31,
   "metadata": {},
   "outputs": [],
   "source": [
    "import pandas as pd\n",
    "import matplotlib.pyplot as plt\n",
    "import seaborn as sns\n",
    "import plotly.express as px\n"
   ]
  },
  {
   "cell_type": "markdown",
   "metadata": {},
   "source": [
    "https://www.kaggle.com/datasets/amitvkulkarni/impact-of-product-positioning-on-sales\n",
    "\n",
    "* Product Position: Describes the location within the store where the product is placed, such as \"Front of Store,\" \"End-cap,\" or \"Aisle.\"\n",
    "* Price: Indicates the price of the product.\n",
    "* Competitor's Price: Specifies the price of similar products offered by competitors.\n",
    "* Promotion: Indicates whether the product is part of a promotional campaign, with values \"Yes\" or \"No.\"\n",
    "* Foot Traffic: Represents the level of foot traffic in the vicinity of the product's location, categorized as \"High,\" \"Medium,\" or \"Low.\"\n",
    "* Consumer Demographics: Describes the characteristics of the consumers purchasing the product, such as \"Young adults,\" \"Families,\" \"Seniors,\" or \"College students.\"\n",
    "* Product Category: Specifies the category to which the product belongs, such as \"Food,\" \"Electronics,\" or \"Clothing.\"\n",
    "* Seasonal: Indicates whether the product is seasonal, with values \"Yes\" or \"No.\"\n",
    "* Sales Volume: Represents the number of units of the product sold within a specific time period."
   ]
  },
  {
   "cell_type": "code",
   "execution_count": 2,
   "metadata": {},
   "outputs": [
    {
     "data": {
      "text/html": [
       "<div>\n",
       "<style scoped>\n",
       "    .dataframe tbody tr th:only-of-type {\n",
       "        vertical-align: middle;\n",
       "    }\n",
       "\n",
       "    .dataframe tbody tr th {\n",
       "        vertical-align: top;\n",
       "    }\n",
       "\n",
       "    .dataframe thead th {\n",
       "        text-align: right;\n",
       "    }\n",
       "</style>\n",
       "<table border=\"1\" class=\"dataframe\">\n",
       "  <thead>\n",
       "    <tr style=\"text-align: right;\">\n",
       "      <th></th>\n",
       "      <th>Product ID</th>\n",
       "      <th>Product Position</th>\n",
       "      <th>Price</th>\n",
       "      <th>Competitor's Price</th>\n",
       "      <th>Promotion</th>\n",
       "      <th>Foot Traffic</th>\n",
       "      <th>Consumer Demographics</th>\n",
       "      <th>Product Category</th>\n",
       "      <th>Seasonal</th>\n",
       "      <th>Sales Volume</th>\n",
       "    </tr>\n",
       "  </thead>\n",
       "  <tbody>\n",
       "    <tr>\n",
       "      <th>0</th>\n",
       "      <td>185102</td>\n",
       "      <td>Aisle</td>\n",
       "      <td>17.07</td>\n",
       "      <td>16.16</td>\n",
       "      <td>No</td>\n",
       "      <td>Medium</td>\n",
       "      <td>Families</td>\n",
       "      <td>Clothing</td>\n",
       "      <td>No</td>\n",
       "      <td>2823</td>\n",
       "    </tr>\n",
       "    <tr>\n",
       "      <th>1</th>\n",
       "      <td>188771</td>\n",
       "      <td>Aisle</td>\n",
       "      <td>17.41</td>\n",
       "      <td>13.13</td>\n",
       "      <td>No</td>\n",
       "      <td>Low</td>\n",
       "      <td>Seniors</td>\n",
       "      <td>Clothing</td>\n",
       "      <td>No</td>\n",
       "      <td>654</td>\n",
       "    </tr>\n",
       "    <tr>\n",
       "      <th>2</th>\n",
       "      <td>180176</td>\n",
       "      <td>End-cap</td>\n",
       "      <td>43.16</td>\n",
       "      <td>38.37</td>\n",
       "      <td>Yes</td>\n",
       "      <td>Medium</td>\n",
       "      <td>Young adults</td>\n",
       "      <td>Electronics</td>\n",
       "      <td>Yes</td>\n",
       "      <td>2220</td>\n",
       "    </tr>\n",
       "    <tr>\n",
       "      <th>3</th>\n",
       "      <td>112917</td>\n",
       "      <td>Aisle</td>\n",
       "      <td>42.26</td>\n",
       "      <td>38.98</td>\n",
       "      <td>Yes</td>\n",
       "      <td>Low</td>\n",
       "      <td>Families</td>\n",
       "      <td>Clothing</td>\n",
       "      <td>Yes</td>\n",
       "      <td>1568</td>\n",
       "    </tr>\n",
       "    <tr>\n",
       "      <th>4</th>\n",
       "      <td>192936</td>\n",
       "      <td>End-cap</td>\n",
       "      <td>47.94</td>\n",
       "      <td>45.59</td>\n",
       "      <td>No</td>\n",
       "      <td>Medium</td>\n",
       "      <td>College students</td>\n",
       "      <td>Clothing</td>\n",
       "      <td>Yes</td>\n",
       "      <td>2942</td>\n",
       "    </tr>\n",
       "  </tbody>\n",
       "</table>\n",
       "</div>"
      ],
      "text/plain": [
       "   Product ID Product Position  Price  Competitor's Price Promotion  \\\n",
       "0      185102            Aisle  17.07               16.16        No   \n",
       "1      188771            Aisle  17.41               13.13        No   \n",
       "2      180176          End-cap  43.16               38.37       Yes   \n",
       "3      112917            Aisle  42.26               38.98       Yes   \n",
       "4      192936          End-cap  47.94               45.59        No   \n",
       "\n",
       "  Foot Traffic Consumer Demographics Product Category Seasonal  Sales Volume  \n",
       "0       Medium              Families         Clothing       No          2823  \n",
       "1          Low               Seniors         Clothing       No           654  \n",
       "2       Medium          Young adults      Electronics      Yes          2220  \n",
       "3          Low              Families         Clothing      Yes          1568  \n",
       "4       Medium      College students         Clothing      Yes          2942  "
      ]
     },
     "execution_count": 2,
     "metadata": {},
     "output_type": "execute_result"
    }
   ],
   "source": [
    "data = pd.read_csv('Data/Product Positioning.csv')\n",
    "data.head()"
   ]
  },
  {
   "cell_type": "code",
   "execution_count": 3,
   "metadata": {},
   "outputs": [
    {
     "data": {
      "text/plain": [
       "(1000, 10)"
      ]
     },
     "execution_count": 3,
     "metadata": {},
     "output_type": "execute_result"
    }
   ],
   "source": [
    "data.shape"
   ]
  },
  {
   "cell_type": "code",
   "execution_count": 7,
   "metadata": {},
   "outputs": [
    {
     "name": "stdout",
     "output_type": "stream",
     "text": [
      "<class 'pandas.core.frame.DataFrame'>\n",
      "RangeIndex: 1000 entries, 0 to 999\n",
      "Data columns (total 10 columns):\n",
      " #   Column                 Non-Null Count  Dtype  \n",
      "---  ------                 --------------  -----  \n",
      " 0   Product ID             1000 non-null   int64  \n",
      " 1   Product Position       1000 non-null   object \n",
      " 2   Price                  1000 non-null   float64\n",
      " 3   Competitor's Price     1000 non-null   float64\n",
      " 4   Promotion              1000 non-null   object \n",
      " 5   Foot Traffic           1000 non-null   object \n",
      " 6   Consumer Demographics  1000 non-null   object \n",
      " 7   Product Category       1000 non-null   object \n",
      " 8   Seasonal               1000 non-null   object \n",
      " 9   Sales Volume           1000 non-null   int64  \n",
      "dtypes: float64(2), int64(2), object(6)\n",
      "memory usage: 78.3+ KB\n"
     ]
    }
   ],
   "source": [
    "data.info()"
   ]
  },
  {
   "cell_type": "code",
   "execution_count": 32,
   "metadata": {},
   "outputs": [
    {
     "ename": "AttributeError",
     "evalue": "module 'plotly.express' has no attribute '__version__'",
     "output_type": "error",
     "traceback": [
      "\u001b[1;31m---------------------------------------------------------------------------\u001b[0m",
      "\u001b[1;31mAttributeError\u001b[0m                            Traceback (most recent call last)",
      "Cell \u001b[1;32mIn[32], line 1\u001b[0m\n\u001b[1;32m----> 1\u001b[0m \u001b[38;5;28mprint\u001b[39m(\u001b[43mpx\u001b[49m\u001b[38;5;241;43m.\u001b[39;49m\u001b[43m__version__\u001b[49m)\n",
      "\u001b[1;31mAttributeError\u001b[0m: module 'plotly.express' has no attribute '__version__'"
     ]
    }
   ],
   "source": [
    "print(px.__version__)"
   ]
  },
  {
   "cell_type": "markdown",
   "metadata": {},
   "source": [
    " price of clothing products , seasonal == no, promotion == yes \n",
    " x price\n",
    " y position"
   ]
  },
  {
   "cell_type": "code",
   "execution_count": 22,
   "metadata": {},
   "outputs": [
    {
     "data": {
      "image/png": "[encoded data removed]",
      "text/plain": [
       "<Figure size 1000x600 with 1 Axes>"
      ]
     },
     "metadata": {},
     "output_type": "display_data"
    }
   ],
   "source": [
    "filtered_data = data[(data['Product Category']=='Clothing')&\n",
    "                     (data['Promotion']=='Yes')&\n",
    "                     (data['Seasonal']=='No')&\n",
    "                     (data['Product Position'])]\n",
    "plt.figure(figsize=(10, 6))\n",
    "sns.barplot(data=filtered_data, x='Price', y='Product Position')\n",
    "plt.title('Relationship between Price and Position for Clothing with Promotion and Non-Seasonal')\n",
    "plt.xlabel('Price')\n",
    "plt.ylabel('Product Position')\n",
    "\n",
    "plt.show()"
   ]
  },
  {
   "cell_type": "code",
   "execution_count": 33,
   "metadata": {},
   "outputs": [
    {
     "data": {
      "text/plain": [
       "array(['Aisle', 'End-cap', 'Front of Store'], dtype=object)"
      ]
     },
     "execution_count": 33,
     "metadata": {},
     "output_type": "execute_result"
    }
   ],
   "source": [
    "data['Product Position'].unique()"
   ]
  }
 ],
 "metadata": {
  "kernelspec": {
   "display_name": "env_amazon",
   "language": "python",
   "name": "python3"
  },
  "language_info": {
   "codemirror_mode": {
    "name": "ipython",
    "version": 3
   },
   "file_extension": ".py",
   "mimetype": "text/x-python",
   "name": "python",
   "nbconvert_exporter": "python",
   "pygments_lexer": "ipython3",
   "version": "3.11.7"
  }
 },
 "nbformat": 4,
 "nbformat_minor": 2
}
